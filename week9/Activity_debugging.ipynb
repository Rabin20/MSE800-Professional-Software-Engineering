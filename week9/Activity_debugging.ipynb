{
 "cells": [
  {
   "cell_type": "code",
   "execution_count": 1,
   "id": "d54f011e-918e-4af8-9d88-bdd3abe5ac0a",
   "metadata": {},
   "outputs": [],
   "source": [
    "from random import randint"
   ]
  },
  {
   "cell_type": "code",
   "execution_count": null,
   "id": "e02fd5e3-2b7e-471a-a87d-815b42ed4b54",
   "metadata": {},
   "outputs": [],
   "source": [
    "# example 1\n",
    "for i in range(1, 20):\n",
    "    if i == 20:\n",
    "        print(f\"You got it!\")\n",
    "\n",
    "# Describe the problem - Write your answers as comments:\n",
    "# 1. what is the loop doing?\n",
    "#    The loop is iterating through numbers from 1 to 19 (inclusive of 1, exclusive of 20).\n",
    "#    It checks each number to see if it is equal to 20.\n",
    "#    However, since the loop only goes up to 19, it will never find a number equal to 20.\n",
    "# 2. When is the function meant to print \"You got it!\"?\n",
    "#    The function is meant to print \"You got it!\" when the value of `i` is equal to 20.\n",
    "#    However, since the loop only iterates up to 19, this condition will never be met.\n",
    "# 3. What are your assumptions about the value of i?\n",
    "#    The value of `i` will take on every integer from 1 to 19 during the loop.\n",
    "#    Since the loop does not include 20, `i` will never equal 20, and thus the print statement will never execute.\n",
    "\n"
   ]
  },
  {
   "cell_type": "code",
   "execution_count": null,
   "id": "8d18a63c-ab13-4a31-942c-be33a1607cda",
   "metadata": {},
   "outputs": [
    {
     "name": "stdout",
     "output_type": "stream",
     "text": [
      "3\n"
     ]
    }
   ],
   "source": [
    "# example 2\n",
    "dice_images = [\"1\", \"2\", \"3\", \"4\", \"5\", \"6\"]\n",
    "dice_num = randint(1, 6)\n",
    "print(dice_images[dice_num])\n",
    "\n",
    "# Describe the problem - Write your answers as comments:\n",
    "# 1. What is the code doing?\n",
    "#    The code is simulating the roll of a six-sided die.\n",
    "#    It randomly selects a number between 1 and 6 (inclusive) using `randint`.\n",
    "# 2. What is the purpose of `dice_images`?  \n",
    "#    The `dice_images` list contains string representations of the numbers 1 through 6, which correspond to the faces of a die.\n",
    "# 3. What is the potential issue with the code?\n",
    "#    The potential issue is that `randint(1, 6)` generates a number between 1 and 6,"
   ]
  },
  {
   "cell_type": "code",
   "execution_count": null,
   "id": "a865d918-5ee4-4c6a-beda-bbcd2e3ea9fa",
   "metadata": {},
   "outputs": [],
   "source": []
  },
  {
   "cell_type": "code",
   "execution_count": null,
   "id": "88ce2963-10bf-42ec-a02f-89811bda74fe",
   "metadata": {},
   "outputs": [],
   "source": [
    "# example 3\n",
    "year = int(input(\"What is your year of birth?\"))\n",
    "\n",
    "if year > 1980 and year < 1994:\n",
    "    print(\"You are a Millennial\")\n",
    "elif year > 1994:\n",
    "    print(\"You are a Gen Z\")\n",
    "# 1. What is the code doing?\n",
    "#    The code is checking the year of birth input by the user to determine their generational category.\n",
    "# 2. What are the conditions for each generation?\n",
    "#    - If the year is between 1981 and 1993 (inclusive), the user is classified as a Millennial.\n",
    "#    - If the year is greater than 1994, the user is classified as Gen Z.\n",
    "# 3. What is the potential issue with the code?\n",
    "#    The potential issue is that if the user inputs a year before 1981 or after 1994,the code does not provide any output or classification for those years."
   ]
  },
  {
   "cell_type": "code",
   "execution_count": null,
   "id": "95197a19-1f0c-49b1-8d98-06f9098eaa91",
   "metadata": {},
   "outputs": [],
   "source": []
  },
  {
   "cell_type": "code",
   "execution_count": null,
   "id": "c285fc19-0db3-4af1-bcbe-53bbbeccece4",
   "metadata": {},
   "outputs": [],
   "source": [
    "# example 4\n",
    "word_per_page = 0\n",
    "pages = int(input(\"Number of pages: \"))\n",
    "word_per_page == int(input(\"Number of words per page: \"))\n",
    "total_words = pages * word_per_page\n",
    "\n",
    "print(f\"We have {total_words} in total.\")\n",
    "# 1. What is the code doing?\n",
    "#    The code is intended to calculate the total number of words in a document based on the number of pages and the number of words per page.\n",
    "# 2. What is the issue with the variable `word_per_page`?\n",
    "#    The issue is that `word_per_page` is being compared to the input value using `==`, which is a comparison operator, instead of being assigned the input value using `=`.\n",
    "# 3. How can the code be fixed? \n",
    "#    The code can be fixed by changing `word_per_page == int(input(\"Number of words per page: \"))` to `word_per_page = int(input(\"Number of words per page: \"))`.\n",
    "# 4. What will happen if the code is run as is?\n",
    "#    If the code is run as is, `word_per_page` will remain 0, and the total number of words will always be 0, regardless of the input for pages or words per page.\n",
    "#    The correct range for `dice_num` should be from 0 to 5, since list indices in Python start at 0.   "
   ]
  },
  {
   "cell_type": "code",
   "execution_count": null,
   "id": "a06c6fa2-8fd9-471d-aed7-c76f37704579",
   "metadata": {},
   "outputs": [],
   "source": []
  },
  {
   "cell_type": "code",
   "execution_count": null,
   "id": "2effe735-10b3-4966-bb79-fffd2dc5138f",
   "metadata": {},
   "outputs": [],
   "source": [
    "# example 5\n",
    "def add(a1, a2):\n",
    "    return a1 + a2\n",
    "\n",
    "def mutate(a_list):\n",
    "    b_list = []\n",
    "    new_item = 0\n",
    "    for item in a_list:\n",
    "        new_item = item * 2\n",
    "        new_item += randint(1, 3)\n",
    "        new_item = add(new_item, item)\n",
    "    b_list.append(new_item)\n",
    "\n",
    "    print(b_list)\n",
    "# 1. What is the code doing?\n",
    "#    The code defines two functions: `add` and `mutate`.\n",
    "#    The `add` function takes two arguments and returns their sum.\n",
    "#    The `mutate` function takes a list, doubles each item, adds a random number between 1 and 3, and then adds the original item to this new value.\n",
    "# 2. What is the issue with the `mutate` function?\n",
    "#    The issue is that `b_list.append(new_item)` is outside the loop, meaning it only appends the last calculated `new_item` after the loop has finished.\n",
    "# 3. How can the code be fixed?\n",
    "#    The code can be fixed by moving `b_list.append(new_item)` inside the loop so that each mutated item is added to `b_list` during each iteration.\n",
    "# 4. What will happen if the code is run as is?\n",
    "#    If the code is run as is, `b_list` will only contain the last mutated item after the loop completes, rather than all mutated items.\n",
    "#    This means that the output will not reflect the mutations of all items in the input list."
   ]
  },
  {
   "cell_type": "code",
   "execution_count": null,
   "id": "2f7d32a6-565c-4573-9fb2-6203e69943f9",
   "metadata": {},
   "outputs": [],
   "source": [
    "a_demo_list = [1, 2, 3, 5, 1, 21, 4, 35]\n",
    "mutate(a_demo_list)"
   ]
  },
  {
   "cell_type": "code",
   "execution_count": null,
   "id": "d4192a55-7ed1-4052-b5ac-3cc3a1c1a7c5",
   "metadata": {},
   "outputs": [],
   "source": []
  },
  {
   "cell_type": "code",
   "execution_count": null,
   "id": "0f6a8d7e-d608-4d89-872f-33b4478ce2d3",
   "metadata": {},
   "outputs": [],
   "source": []
  }
 ],
 "metadata": {
  "kernelspec": {
   "display_name": "Python 3",
   "language": "python",
   "name": "python3"
  },
  "language_info": {
   "codemirror_mode": {
    "name": "ipython",
    "version": 3
   },
   "file_extension": ".py",
   "mimetype": "text/x-python",
   "name": "python",
   "nbconvert_exporter": "python",
   "pygments_lexer": "ipython3",
   "version": "3.10.11"
  }
 },
 "nbformat": 4,
 "nbformat_minor": 5
}
